{
  "nbformat": 4,
  "nbformat_minor": 0,
  "metadata": {
    "kernelspec": {
      "display_name": "Python 3",
      "language": "python",
      "name": "python3"
    },
    "language_info": {
      "codemirror_mode": {
        "name": "ipython",
        "version": 3
      },
      "file_extension": ".py",
      "mimetype": "text/x-python",
      "name": "python",
      "nbconvert_exporter": "python",
      "pygments_lexer": "ipython3",
      "version": "3.7.4"
    },
    "colab": {
      "name": "yelp.ipynb",
      "provenance": []
    }
  },
  "cells": [
    {
      "cell_type": "code",
      "metadata": {
        "id": "ee56hBoCZgE2",
        "colab": {
          "base_uri": "https://localhost:8080/",
          "height": 269
        },
        "outputId": "d0c94449-a488-4a0d-f58b-983bc1d2010f"
      },
      "source": [
        "import bs4 as bs\n",
        "import urllib.request as url_x\n",
        "import pandas as pd\n",
        "BusinessNames=[]\n",
        "Phone=[]\n",
        "Address=[]\n",
        "Urls=[]\n",
        "state_name = input('Enter State name here:')\n",
        "\n",
        "\n",
        "print('Process Ignited')\n",
        "\n",
        "\n",
        "url='https://www.yelp.com/search?cflt=restaurants&find_loc=San+Francisco%2C+CA'\n",
        "\n",
        "urlsource=''+url+'&start='\n",
        "\n",
        "\n",
        "\n",
        "no_of_pages=5\n",
        "for iteration in range(1,no_of_pages):\n",
        "  s=iteration*10\n",
        "  if(s==0):\n",
        "    s=1\n",
        "  source = url_x.urlopen(urlsource+str(s))\n",
        "  print(urlsource+str(s))\n",
        "\n",
        "  page_soup = bs.BeautifulSoup(source, 'html.parser')\n",
        "  mains = page_soup.find_all(\"div\", {\"class\": \"  scrollablePhotos__09f24__1PpB8 arrange__09f24__AiSIM border-color--default__09f24__R1nRO\"})\n",
        "  for main in mains:\n",
        "      try:\n",
        "          busname = main.find(\"div\", {\"class\" : \"  businessName__09f24__3Wql2 display--inline-block__09f24__FsgS4 border-color--default__09f24__R1nRO\"}).text\n",
        "          BusinessNames.append(busname)\n",
        "          #pnumber = main.find(\"span\", {\"class\" : \" partner-name\"}).text\n",
        "          #Phone.append(pnumber)\n",
        "          #address = main.find(\"div\", {\"class\" : \" _jen3vs _1d8rgfy3\"}).text\n",
        "          #Address.append(address)\n",
        "          #url = main.find(\"a\", {\"class\" : \" link__09f24__1kwXV link-color--inherit__09f24__3PYlA link-size--inherit__09f24__2Uj95\"})['href']\n",
        "          #Urls.append(\"yelp.com\" + url)\n",
        "      except:\n",
        "          print(None)\n",
        "  print('Loading......')\n",
        "print('Done with processing')\n",
        "#Enter State Name\n",
        "# state_name  = input('Enter State name here:')\n",
        "dictionary = {'BusinessNames': BusinessNames} \n",
        "df=pd.DataFrame(dict([(k,pd.Series(v)) for k,v in dictionary.items()]))\n",
        "df\n",
        "\n",
        "\n",
        "\n",
        "\n",
        "\n",
        "\n"
      ],
      "execution_count": null,
      "outputs": [
        {
          "output_type": "stream",
          "text": [
            "Enter State name here:adg\n",
            "Process Ignited\n",
            "https://www.yelp.com/search?cflt=restaurants&find_loc=San+Francisco%2C+CA&start=10\n",
            "Loading......\n",
            "https://www.yelp.com/search?cflt=restaurants&find_loc=San+Francisco%2C+CA&start=20\n",
            "Loading......\n",
            "https://www.yelp.com/search?cflt=restaurants&find_loc=San+Francisco%2C+CA&start=30\n",
            "Loading......\n",
            "https://www.yelp.com/search?cflt=restaurants&find_loc=San+Francisco%2C+CA&start=40\n",
            "Loading......\n",
            "Done with processing\n"
          ],
          "name": "stdout"
        },
        {
          "output_type": "stream",
          "text": [
            "/usr/local/lib/python3.6/dist-packages/ipykernel_launcher.py:47: DeprecationWarning: The default dtype for empty Series will be 'object' instead of 'float64' in a future version. Specify a dtype explicitly to silence this warning.\n"
          ],
          "name": "stderr"
        },
        {
          "output_type": "execute_result",
          "data": {
            "text/html": [
              "<div>\n",
              "<style scoped>\n",
              "    .dataframe tbody tr th:only-of-type {\n",
              "        vertical-align: middle;\n",
              "    }\n",
              "\n",
              "    .dataframe tbody tr th {\n",
              "        vertical-align: top;\n",
              "    }\n",
              "\n",
              "    .dataframe thead th {\n",
              "        text-align: right;\n",
              "    }\n",
              "</style>\n",
              "<table border=\"1\" class=\"dataframe\">\n",
              "  <thead>\n",
              "    <tr style=\"text-align: right;\">\n",
              "      <th></th>\n",
              "      <th>BusinessNames</th>\n",
              "    </tr>\n",
              "  </thead>\n",
              "  <tbody>\n",
              "  </tbody>\n",
              "</table>\n",
              "</div>"
            ],
            "text/plain": [
              "Empty DataFrame\n",
              "Columns: [BusinessNames]\n",
              "Index: []"
            ]
          },
          "metadata": {
            "tags": []
          },
          "execution_count": 10
        }
      ]
    },
    {
      "cell_type": "code",
      "metadata": {
        "id": "n55ZDARIZgE6",
        "colab": {
          "base_uri": "https://localhost:8080/",
          "height": 16
        },
        "outputId": "017e95c4-df42-49a5-c28d-f7d3188f3691"
      },
      "source": [
        "#saving the dataframe \n",
        "df.to_csv(''+state_name+'.csv',encoding='utf-8-sig')\n",
        "print('saved as a file')\n",
        "\n",
        "\n",
        "from google.colab import files\n",
        "files.download(''+state_name+'.csv')"
      ],
      "execution_count": null,
      "outputs": [
        {
          "output_type": "display_data",
          "data": {
            "application/javascript": [
              "\n",
              "    async function download(id, filename, size) {\n",
              "      if (!google.colab.kernel.accessAllowed) {\n",
              "        return;\n",
              "      }\n",
              "      const div = document.createElement('div');\n",
              "      const label = document.createElement('label');\n",
              "      label.textContent = `Downloading \"${filename}\": `;\n",
              "      div.appendChild(label);\n",
              "      const progress = document.createElement('progress');\n",
              "      progress.max = size;\n",
              "      div.appendChild(progress);\n",
              "      document.body.appendChild(div);\n",
              "\n",
              "      const buffers = [];\n",
              "      let downloaded = 0;\n",
              "\n",
              "      const channel = await google.colab.kernel.comms.open(id);\n",
              "      // Send a message to notify the kernel that we're ready.\n",
              "      channel.send({})\n",
              "\n",
              "      for await (const message of channel.messages) {\n",
              "        // Send a message to notify the kernel that we're ready.\n",
              "        channel.send({})\n",
              "        if (message.buffers) {\n",
              "          for (const buffer of message.buffers) {\n",
              "            buffers.push(buffer);\n",
              "            downloaded += buffer.byteLength;\n",
              "            progress.value = downloaded;\n",
              "          }\n",
              "        }\n",
              "      }\n",
              "      const blob = new Blob(buffers, {type: 'application/binary'});\n",
              "      const a = document.createElement('a');\n",
              "      a.href = window.URL.createObjectURL(blob);\n",
              "      a.download = filename;\n",
              "      div.appendChild(a);\n",
              "      a.click();\n",
              "      div.remove();\n",
              "    }\n",
              "  "
            ],
            "text/plain": [
              "<IPython.core.display.Javascript object>"
            ]
          },
          "metadata": {
            "tags": []
          }
        },
        {
          "output_type": "display_data",
          "data": {
            "application/javascript": [
              "download(\"download_bd7bee08-50c4-483a-8226-5854b0179f3a\", \"chicago.csv\", 7414)"
            ],
            "text/plain": [
              "<IPython.core.display.Javascript object>"
            ]
          },
          "metadata": {
            "tags": []
          }
        }
      ]
    },
    {
      "cell_type": "code",
      "metadata": {
        "id": "tzeXWSa0bW33"
      },
      "source": [
        "\n",
        "#urlsource ='https://www.yelp.com/search?find_desc=Restaurants&find_loc=Illiopolis%2C+IL&ns='\n",
        "#urlsource='https://www.yelp.com/search?find_desc=Restaurants&find_loc=Southeast%20Colorado%20Springs%2C%20Colorado%20Springs%2C%20CO&start='"
      ],
      "execution_count": null,
      "outputs": []
    },
    {
      "cell_type": "code",
      "metadata": {
        "id": "H5qSistXDdnR",
        "colab": {
          "base_uri": "https://localhost:8080/"
        },
        "outputId": "c2cc611d-6aa7-4be4-a09b-df81001287a6"
      },
      "source": [
        "import bs4 as bs\n",
        "import urllib.request as url_x\n",
        "import pandas as pd\n",
        "BusinessNames=[]\n",
        "Phone=[]\n",
        "Address=[]\n",
        "Urls=[]\n",
        "State='abc'\n",
        "print('Process Ignited')\n",
        "\n",
        "url='https://www.yelp.com/search?find_desc=Restaurants&find_loc=Atmore%2C%20AL'\n",
        "\n",
        "urlsource=''+url+'&next='\n",
        "print(urlsource)\n",
        "print(State)\n"
      ],
      "execution_count": null,
      "outputs": [
        {
          "output_type": "stream",
          "text": [
            "Process Ignited\n",
            "https://www.yelp.com/search?find_desc=Restaurants&find_loc=Atmore%2C%20AL&next=\n",
            "abc\n"
          ],
          "name": "stdout"
        }
      ]
    },
    {
      "cell_type": "code",
      "metadata": {
        "id": "_NMUTWIFDely",
        "colab": {
          "base_uri": "https://localhost:8080/"
        },
        "outputId": "465bf809-a961-4b45-ffc1-2be8eacbf0f1"
      },
      "source": [
        "import bs4 as bs\n",
        "import urllib.request as url_x\n",
        "import pandas as pd\n",
        "BusinessNames=[]\n",
        "Phone=[]\n",
        "Address=[]\n",
        "Urls=[]\n",
        "State= '600 Dexter Ave, Montgomery, AL 36130'#Enter State Name\n",
        "\n",
        "print('Process Ignited')\n",
        "\n",
        "\n",
        "url='https://www.yelp.com/search?find_desc=Restaurants&find_near=alabama-state-capitol-montgomery'\n",
        "\n",
        "urlsource=''+url+'&next='\n",
        "\n",
        "\n",
        "\n",
        "no_of_pages=24\n",
        "for iteration in range(no_of_pages):\n",
        "  s=iteration*10\n",
        "  if(s==0):\n",
        "    s=1\n",
        "  source = url_x.urlopen(urlsource+str(s))\n",
        "  print(urlsource+str(s))"
      ],
      "execution_count": null,
      "outputs": [
        {
          "output_type": "stream",
          "text": [
            "Process Ignited\n",
            "https://www.yelp.com/search?find_desc=Restaurants&find_near=alabama-state-capitol-montgomery&next=1\n",
            "https://www.yelp.com/search?find_desc=Restaurants&find_near=alabama-state-capitol-montgomery&next=10\n",
            "https://www.yelp.com/search?find_desc=Restaurants&find_near=alabama-state-capitol-montgomery&next=20\n",
            "https://www.yelp.com/search?find_desc=Restaurants&find_near=alabama-state-capitol-montgomery&next=30\n",
            "https://www.yelp.com/search?find_desc=Restaurants&find_near=alabama-state-capitol-montgomery&next=40\n",
            "https://www.yelp.com/search?find_desc=Restaurants&find_near=alabama-state-capitol-montgomery&next=50\n",
            "https://www.yelp.com/search?find_desc=Restaurants&find_near=alabama-state-capitol-montgomery&next=60\n",
            "https://www.yelp.com/search?find_desc=Restaurants&find_near=alabama-state-capitol-montgomery&next=70\n",
            "https://www.yelp.com/search?find_desc=Restaurants&find_near=alabama-state-capitol-montgomery&next=80\n",
            "https://www.yelp.com/search?find_desc=Restaurants&find_near=alabama-state-capitol-montgomery&next=90\n",
            "https://www.yelp.com/search?find_desc=Restaurants&find_near=alabama-state-capitol-montgomery&next=100\n",
            "https://www.yelp.com/search?find_desc=Restaurants&find_near=alabama-state-capitol-montgomery&next=110\n",
            "https://www.yelp.com/search?find_desc=Restaurants&find_near=alabama-state-capitol-montgomery&next=120\n",
            "https://www.yelp.com/search?find_desc=Restaurants&find_near=alabama-state-capitol-montgomery&next=130\n",
            "https://www.yelp.com/search?find_desc=Restaurants&find_near=alabama-state-capitol-montgomery&next=140\n",
            "https://www.yelp.com/search?find_desc=Restaurants&find_near=alabama-state-capitol-montgomery&next=150\n",
            "https://www.yelp.com/search?find_desc=Restaurants&find_near=alabama-state-capitol-montgomery&next=160\n",
            "https://www.yelp.com/search?find_desc=Restaurants&find_near=alabama-state-capitol-montgomery&next=170\n",
            "https://www.yelp.com/search?find_desc=Restaurants&find_near=alabama-state-capitol-montgomery&next=180\n",
            "https://www.yelp.com/search?find_desc=Restaurants&find_near=alabama-state-capitol-montgomery&next=190\n",
            "https://www.yelp.com/search?find_desc=Restaurants&find_near=alabama-state-capitol-montgomery&next=200\n",
            "https://www.yelp.com/search?find_desc=Restaurants&find_near=alabama-state-capitol-montgomery&next=210\n",
            "https://www.yelp.com/search?find_desc=Restaurants&find_near=alabama-state-capitol-montgomery&next=220\n",
            "https://www.yelp.com/search?find_desc=Restaurants&find_near=alabama-state-capitol-montgomery&next=230\n"
          ],
          "name": "stdout"
        }
      ]
    },
    {
      "cell_type": "code",
      "metadata": {
        "id": "VzMXEohEQZLd"
      },
      "source": [
        ""
      ],
      "execution_count": null,
      "outputs": []
    }
  ]
}